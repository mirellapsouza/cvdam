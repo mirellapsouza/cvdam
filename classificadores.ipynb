{
  "nbformat": 4,
  "nbformat_minor": 0,
  "metadata": {
    "colab": {
      "provenance": [],
      "gpuType": "T4",
      "authorship_tag": "ABX9TyMOu2RS0oxfQysi8PzFbEuc"
    },
    "kernelspec": {
      "name": "python3",
      "display_name": "Python 3"
    },
    "language_info": {
      "name": "python"
    },
    "accelerator": "GPU"
  },
  "cells": [
    {
      "cell_type": "code",
      "source": [
        "import numpy as np\n",
        "from sklearn.datasets import fetch_openml\n",
        "from sklearn.model_selection import train_test_split\n",
        "\n",
        "# carrega o conjunto de dados CIFAR-10\n",
        "cifar10 = fetch_openml('cifar_10', version=1, cache=True)\n",
        "\n",
        "# separa os dados e os rótulos\n",
        "X = cifar10.data\n",
        "y = cifar10.target\n",
        "\n",
        "# converte os rótulos para inteiros\n",
        "y = y.astype(np.uint8)\n",
        "\n",
        "# divide os dados em conjuntos de treinamento e teste\n",
        "X_train, X_test, y_train, y_test = train_test_split(X, y, test_size=0.2, random_state=42)\n",
        "\n",
        "# normaliza os dados\n",
        "X_train = X_train / 255.0\n",
        "X_test = X_test/255.0\n",
        "\n",
        "from sklearn.metrics import classification_report, confusion_matrix"
      ],
      "metadata": {
        "id": "H6CA7430TYov"
      },
      "execution_count": 1,
      "outputs": []
    },
    {
      "cell_type": "code",
      "execution_count": null,
      "metadata": {
        "colab": {
          "base_uri": "https://localhost:8080/"
        },
        "id": "5P-V8wgUvYvi",
        "outputId": "33fcf6e4-230f-4b96-e775-6fbdc99fac10"
      },
      "outputs": [
        {
          "output_type": "stream",
          "name": "stdout",
          "text": [
            "\n",
            "Relatorio SGDClassifier\n",
            "               precision    recall  f1-score   support\n",
            "\n",
            "           0       0.71      0.12      0.21      1193\n",
            "           1       0.50      0.46      0.48      1211\n",
            "           2       0.27      0.13      0.17      1218\n",
            "           3       0.26      0.02      0.04      1208\n",
            "           4       0.36      0.18      0.24      1168\n",
            "           5       0.26      0.34      0.29      1203\n",
            "           6       0.24      0.72      0.36      1185\n",
            "           7       0.32      0.51      0.40      1241\n",
            "           8       0.48      0.48      0.48      1183\n",
            "           9       0.44      0.42      0.43      1190\n",
            "\n",
            "    accuracy                           0.34     12000\n",
            "   macro avg       0.38      0.34      0.31     12000\n",
            "weighted avg       0.38      0.34      0.31     12000\n",
            "\n",
            "[[147  71  38   7  16 141 167 254 251 101]\n",
            " [  6 561  24   2  25  60 174 114  77 168]\n",
            " [ 18  29 154  15  79 188 464 186  55  30]\n",
            " [  5  46  51  27  52 287 503 149  37  51]\n",
            " [  6  18  88   5 206 142 452 198  27  26]\n",
            " [  2  33  82  22  68 411 370 126  51  38]\n",
            " [  1  20  37   8  47  97 855  74  20  26]\n",
            " [  2  31  57   9  67 118 224 638  25  70]\n",
            " [ 14 111  22   3   9 100 128 100 570 126]\n",
            " [  5 201  25   5   9  51 175 148  76 495]]\n"
          ]
        }
      ],
      "source": [
        "###############\n",
        "# SGDClassifier\n",
        "from sklearn.linear_model import SGDClassifier\n",
        "sgdc = SGDClassifier(random_state=42)\n",
        "\n",
        "sgdc.fit(X_train, y_train) # executa o treinamento\n",
        "\n",
        "sgdc_pred = sgdc.predict(X_test) # previsao\n",
        "\n",
        "print(\"\\nRelatorio SGDClassifier\\n\", classification_report(y_test, sgdc_pred))\n",
        "\n",
        "cm = confusion_matrix(y_test, sgdc_pred)\n",
        "print(cm)"
      ]
    },
    {
      "cell_type": "code",
      "source": [
        "##############\n",
        "# RandomForestClassifier\n",
        "from sklearn.ensemble import RandomForestClassifier\n",
        "rfc = RandomForestClassifier(random_state=42)\n",
        "\n",
        "rfc.fit(X_train, y_train)\n",
        "\n",
        "rfc_pred = rfc.predict(X_test)\n",
        "\n",
        "print(\"\\nRelatorio RandomForestClassifier\\n\", classification_report(y_test, rfc_pred))\n",
        "\n",
        "cm = confusion_matrix(y_test, rfc_pred)\n",
        "print(cm)"
      ],
      "metadata": {
        "colab": {
          "base_uri": "https://localhost:8080/"
        },
        "id": "h_zhwM0WTlNU",
        "outputId": "c4906a65-dee0-47b4-8acf-df8a0fe5539e"
      },
      "execution_count": null,
      "outputs": [
        {
          "output_type": "stream",
          "name": "stdout",
          "text": [
            "\n",
            "Relatorio RandomForestClassifier\n",
            "               precision    recall  f1-score   support\n",
            "\n",
            "           0       0.54      0.55      0.54      1193\n",
            "           1       0.50      0.55      0.52      1211\n",
            "           2       0.37      0.31      0.34      1218\n",
            "           3       0.33      0.28      0.30      1208\n",
            "           4       0.37      0.40      0.39      1168\n",
            "           5       0.39      0.36      0.38      1203\n",
            "           6       0.46      0.53      0.49      1185\n",
            "           7       0.52      0.44      0.48      1241\n",
            "           8       0.61      0.63      0.62      1183\n",
            "           9       0.46      0.54      0.50      1190\n",
            "\n",
            "    accuracy                           0.46     12000\n",
            "   macro avg       0.45      0.46      0.45     12000\n",
            "weighted avg       0.45      0.46      0.45     12000\n",
            "\n",
            "[[658  54  69  27  31  26  24  40 187  77]\n",
            " [ 42 660  17  37  29  30  47  38  65 246]\n",
            " [118  53 375  85 202  92 149  70  34  40]\n",
            " [ 64  56 103 335 104 210 161  67  28  80]\n",
            " [ 68  29 146  72 473  55 163  91  35  36]\n",
            " [ 43  46  97 215  98 430 109  91  28  46]\n",
            " [ 23  43 108  90 153  73 633  25   9  28]\n",
            " [ 54  52  68  89 150  93  61 544  18 112]\n",
            " [102 117  15  29  17  41   8  22 745  87]\n",
            " [ 55 216  15  40  14  39  36  59  76 640]]\n"
          ]
        }
      ]
    },
    {
      "cell_type": "code",
      "source": [
        "##########\n",
        "# KNeighborsClassifier\n",
        "from sklearn.neighbors import KNeighborsClassifier\n",
        "knc = KNeighborsClassifier()\n",
        "\n",
        "knc.fit(X_train, y_train)\n",
        "\n",
        "knc_pred = knc.predict(X_test)\n",
        "\n",
        "print(\"\\nRelatorio KNC\\n\", classification_report(y_test, knc_pred))\n",
        "\n",
        "cm = confusion_matrix(y_test, knc_pred)\n",
        "print(\"\\nMatriz de confusão do KNC\\n\", cm)"
      ],
      "metadata": {
        "colab": {
          "base_uri": "https://localhost:8080/"
        },
        "id": "u7wL6Hx0CljP",
        "outputId": "fcdae557-7339-4ace-9621-2e1c544f1211"
      },
      "execution_count": 2,
      "outputs": [
        {
          "output_type": "stream",
          "name": "stdout",
          "text": [
            "\n",
            "Relatorio KNC\n",
            "               precision    recall  f1-score   support\n",
            "\n",
            "           0       0.36      0.54      0.43      1193\n",
            "           1       0.69      0.21      0.32      1211\n",
            "           2       0.22      0.43      0.30      1218\n",
            "           3       0.31      0.23      0.26      1208\n",
            "           4       0.23      0.48      0.31      1168\n",
            "           5       0.40      0.22      0.28      1203\n",
            "           6       0.36      0.28      0.31      1185\n",
            "           7       0.68      0.21      0.32      1241\n",
            "           8       0.40      0.68      0.51      1183\n",
            "           9       0.71      0.13      0.22      1190\n",
            "\n",
            "    accuracy                           0.34     12000\n",
            "   macro avg       0.44      0.34      0.33     12000\n",
            "weighted avg       0.44      0.34      0.33     12000\n",
            "\n",
            "\n",
            "Matriz de confusão do KNC\n",
            " [[640   5 133  22  81  10  21   7 270   4]\n",
            " [158 250 144  45 192  38  78  17 259  30]\n",
            " [158   4 526  50 292  41  81   5  59   2]\n",
            " [106  10 266 275 228 123 115  17  63   5]\n",
            " [104   4 310  49 560  20  44  13  62   2]\n",
            " [ 90   5 272 192 216 259 103  16  48   2]\n",
            " [ 44   8 309  77 341  43 327   5  30   1]\n",
            " [127   6 201  67 373  63  63 260  73   8]\n",
            " [188   8  48  43  52  12  11   7 804  10]\n",
            " [171  61 137  56 149  44  64  35 318 155]]\n"
          ]
        }
      ]
    }
  ]
}